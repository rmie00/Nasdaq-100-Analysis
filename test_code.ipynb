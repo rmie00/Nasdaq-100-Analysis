{
 "cells": [
  {
   "cell_type": "code",
   "execution_count": 72,
   "id": "4ed1098d-11fd-49bc-91b4-9082a4986020",
   "metadata": {
    "tags": []
   },
   "outputs": [],
   "source": [
    "import pandas as pd"
   ]
  },
  {
   "cell_type": "code",
   "execution_count": 73,
   "id": "a99dcdd1-c05a-4b79-adef-d7bb7c34140b",
   "metadata": {
    "tags": []
   },
   "outputs": [],
   "source": [
    "df = pd.read_csv('nasdaq_Index_Weight.csv')"
   ]
  },
  {
   "cell_type": "code",
   "execution_count": 76,
   "id": "64b22d3e-3863-42e8-ba34-e35b061e7b06",
   "metadata": {
    "tags": []
   },
   "outputs": [],
   "source": [
    "dict = df.set_index('Symbol')['Weight'].to_dict()"
   ]
  },
  {
   "cell_type": "code",
   "execution_count": 77,
   "id": "da2d70a8-c852-498b-b277-e52a284957ed",
   "metadata": {
    "tags": []
   },
   "outputs": [
    {
     "data": {
      "text/plain": [
       "{'AAPL': 11.315,\n",
       " 'MSFT': 10.282,\n",
       " 'AMZN': 5.625,\n",
       " 'NVDA': 4.339,\n",
       " 'META': 3.834,\n",
       " 'AVGO': 3.091,\n",
       " 'GOOGL': 2.962,\n",
       " 'GOOG': 2.931,\n",
       " 'TSLA': 2.862,\n",
       " 'ADBE': 2.205,\n",
       " 'COST': 2.148,\n",
       " 'PEP': 1.809,\n",
       " 'AMD': 1.652,\n",
       " 'NFLX': 1.595,\n",
       " 'CSCO': 1.564,\n",
       " 'TMUS': 1.459,\n",
       " 'INTC': 1.418,\n",
       " 'CMCSA': 1.374,\n",
       " 'INTU': 1.275,\n",
       " 'QCOM': 1.177,\n",
       " 'AMGN': 1.142,\n",
       " 'TXN': 1.131,\n",
       " 'HON': 1.025,\n",
       " 'AMAT': 0.98,\n",
       " 'BKNG': 0.927,\n",
       " 'SBUX': 0.878,\n",
       " 'ISRG': 0.865,\n",
       " 'GILD': 0.781,\n",
       " 'MDLZ': 0.767,\n",
       " 'ADP': 0.749,\n",
       " 'LRCX': 0.739,\n",
       " 'ADI': 0.731,\n",
       " 'PANW': 0.724,\n",
       " 'PDD': 0.718,\n",
       " 'VRTX': 0.717,\n",
       " 'REGN': 0.711,\n",
       " 'MU': 0.651,\n",
       " 'SNPS': 0.646,\n",
       " 'MELI': 0.627,\n",
       " 'KLAC': 0.579,\n",
       " 'CDNS': 0.56,\n",
       " 'CSX': 0.524,\n",
       " 'PYPL': 0.513,\n",
       " 'MAR': 0.495,\n",
       " 'ASML': 0.479,\n",
       " 'ABNB': 0.476,\n",
       " 'LULU': 0.472,\n",
       " 'ORLY': 0.452,\n",
       " 'WDAY': 0.449,\n",
       " 'MNST': 0.448,\n",
       " 'CTAS': 0.446,\n",
       " 'NXPI': 0.441,\n",
       " 'CHTR': 0.436,\n",
       " 'CRWD': 0.435,\n",
       " 'PCAR': 0.395,\n",
       " 'ADSK': 0.38,\n",
       " 'MCHP': 0.372,\n",
       " 'MRVL': 0.362,\n",
       " 'DXCM': 0.36,\n",
       " 'CPRT': 0.359,\n",
       " 'ROST': 0.357,\n",
       " 'KDP': 0.356,\n",
       " 'PAYX': 0.355,\n",
       " 'KHC': 0.353,\n",
       " 'IDXX': 0.35,\n",
       " 'SGEN': 0.326,\n",
       " 'AEP': 0.325,\n",
       " 'FTNT': 0.325,\n",
       " 'ODFL': 0.32,\n",
       " 'EXC': 0.309,\n",
       " 'EA': 0.295,\n",
       " 'AZN': 0.292,\n",
       " 'CEG': 0.284,\n",
       " 'FAST': 0.282,\n",
       " 'CTSH': 0.282,\n",
       " 'BIIB': 0.275,\n",
       " 'DDOG': 0.27,\n",
       " 'VRSK': 0.268,\n",
       " 'CSGP': 0.267,\n",
       " 'XEL': 0.266,\n",
       " 'ON': 0.261,\n",
       " 'BKR': 0.258,\n",
       " 'TTD': 0.25,\n",
       " 'GEHC': 0.247,\n",
       " 'MRNA': 0.242,\n",
       " 'TEAM': 0.234,\n",
       " 'ZS': 0.23,\n",
       " 'GFS': 0.228,\n",
       " 'WBD': 0.222,\n",
       " 'DLTR': 0.217,\n",
       " 'FANG': 0.211,\n",
       " 'ANSS': 0.198,\n",
       " 'EBAY': 0.174,\n",
       " 'WBA': 0.159,\n",
       " 'ZM': 0.147,\n",
       " 'ILMN': 0.142,\n",
       " 'SIRI': 0.141,\n",
       " 'ALGN': 0.134,\n",
       " 'ENPH': 0.111,\n",
       " 'JD': 0.095,\n",
       " 'LCID': 0.085}"
      ]
     },
     "execution_count": 77,
     "metadata": {},
     "output_type": "execute_result"
    }
   ],
   "source": [
    "dict"
   ]
  },
  {
   "cell_type": "code",
   "execution_count": null,
   "id": "4f2d1d6c-8636-4453-b692-872b7d9fc8f9",
   "metadata": {},
   "outputs": [],
   "source": []
  }
 ],
 "metadata": {
  "kernelspec": {
   "display_name": "Python 3 (ipykernel)",
   "language": "python",
   "name": "python3"
  },
  "language_info": {
   "codemirror_mode": {
    "name": "ipython",
    "version": 3
   },
   "file_extension": ".py",
   "mimetype": "text/x-python",
   "name": "python",
   "nbconvert_exporter": "python",
   "pygments_lexer": "ipython3",
   "version": "3.11.5"
  }
 },
 "nbformat": 4,
 "nbformat_minor": 5
}
