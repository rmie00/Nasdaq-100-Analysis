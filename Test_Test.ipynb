{
 "cells": [
  {
   "cell_type": "code",
   "execution_count": 15,
   "id": "ea4c1626-9e64-4da1-8968-c94a1b1ffb1c",
   "metadata": {
    "tags": []
   },
   "outputs": [],
   "source": [
    "import pandas as pd\n",
    "import numpy as np\n",
    "import datetime as dt"
   ]
  },
  {
   "cell_type": "code",
   "execution_count": 18,
   "id": "717c2a39-51a3-4fcb-9351-9e8eab07ce42",
   "metadata": {
    "tags": []
   },
   "outputs": [],
   "source": [
    "df = pd.read_csv('Nasdaq_Stocks.csv',\n",
    "                 parse_dates = ['Date'])"
   ]
  },
  {
   "cell_type": "code",
   "execution_count": 23,
   "id": "03745b66-4181-434e-b272-3e2857981669",
   "metadata": {
    "tags": []
   },
   "outputs": [
    {
     "name": "stdout",
     "output_type": "stream",
     "text": [
      "1006    89.949997\n",
      "Name: Close, dtype: float64\n"
     ]
    }
   ],
   "source": [
    "data = df.loc[(df['Symbol'] == 'AAPL') & (df['Date'] == '2023-11-30'), 'Close']\n",
    "print(data - 100)"
   ]
  },
  {
   "cell_type": "code",
   "execution_count": 3,
   "id": "cecee067-1d13-4efc-b3ce-85e449bd99c5",
   "metadata": {
    "tags": []
   },
   "outputs": [],
   "source": [
    "usa_names = [\n",
    "    \"Apple\", \"Microsoft\", \"Alphabet (Google)\", \"Amazon\", \"NVIDIA\", \"Meta Platforms (Facebook)\", \n",
    "    \"Tesla\", \"Broadcom\", \"Oracle\", \"Adobe\", \"Salesforce\", \"AMD\", \"Netflix\", \"Cisco\", \"Intel\", \n",
    "    \"Intuit\", \"QUALCOMM\", \"IBM\", \"ServiceNow\", \"Texas Instruments\", \"Uber\", \"Applied Materials\", \n",
    "    \"Booking Holdings (Booking.com)\", \"Automatic Data Processing\", \"Palo Alto Networks\", \n",
    "    \"Lam Research\", \"Analog Devices\", \"Airbnb\", \"Micron Technology\", \"Synopsys\", \"Fiserv\", \n",
    "    \"Equinix\", \"KLA\", \"Workday\", \"Cadence Design Systems\", \"Arista Networks\", \"PayPal\", \n",
    "    \"Snowflake\", \"Vmware\", \"CrowdStrike\", \"Roper Technologies\", \"Dell\", \"Autodesk\", \n",
    "    \"Microchip Technology\", \"Marvell Technology Group\", \"Block\", \"Fortinet\", \"DoorDash\", \n",
    "    \"IQVIA\", \"Palantir\", \"Datadog\", \"Electronic Arts\", \"Coinbase\", \n",
    "    \"Fidelity National Information Services\", \"The Trade Desk\", \"CoStar Group\", \"ON Semiconductor\", \n",
    "    \"Global Payments\", \"Zscaler\", \"HP\", \"GlobalFoundries\"\n",
    "]\n",
    "\n",
    "eu_names = [\n",
    "    \"Novo Nordisk\", \"LVMH\", \"ASML\", \"L'Oréal\", \"Hermès\", \"Accenture\", \"SAP\", \"TotalEnergies\", \"Prosus\", \"Siemens\",\n",
    "    \"Dior\", \"Inditex\", \"Anheuser-Busch Inbev\", \"Deutsche Telekom\", \"Airbus\", \"Sanofi\", \"Medtronic\", \"Schneider Electric\",\n",
    "    \"Allianz\", \"Air Liquide\", \"Eaton\", \"EssilorLuxottica\", \"Porsche\", \"Iberdrola\", \"BNP Paribas\", \"Safran\", \"Atlas Copco\",\n",
    "    \"AXA\", \"Mercedes-Benz\", \"Enel\", \"BMW\", \"Vinci\", \"Stellantis\", \"Santander\", \"Merck KGaA\", \"Ferrari\", \"Volkswagen\",\n",
    "    \"Investor AB\", \"Siemens Healthineers\", \"Dassault Systèmes\", \"DHL Group (Deutsche Post)\", \"Munich RE (Münchener Rück)\",\n",
    "    \"NXP Semiconductors\", \"Kering\", \"Heineken\", \"Banco Bilbao Vizcaya Argentaria\", \"Trane Technologies\", \"Intesa Sanpaolo\",\n",
    "    \"Infineon\", \"ENI\", \"ING\", \"Universal Music Group\", \"Volvo Group\", \"UniCredit\", \"Cement Roadstone Holding\", \"BASF\",\n",
    "    \"Pernod Ricard\", \"ENGIE\", \"Crédit Agricole\", \"Danone\", \"Nordea Bank\", \"Adyen\", \"Spotify\", \"Uniper\", \"Johnson Controls\",\n",
    "    \"Adidas\", \"Deutsche Börse\", \"E.ON\", \"Experian\", \"Exor\", \"Capgemini\", \"Bayer\", \"Wolters Kluwer\",\n",
    "    \"Compagnie de Saint-Gobain\", \"DSV\", \"Verbund AG\", \"RWE\", \"Beiersdorf\", \"Orange\", \"Generali\", \"Amadeus IT Group\",\n",
    "    \"CaixaBank\", \"Thales\", \"Henkel\", \"Ingersoll Rand\", \"Naturgy\", \"Neste\", \"Assa Abloy\", \"EQT\", \"Ryanair\", \"Hannover Rück\",\n",
    "    \"Daimler Truck\", \"Ahold Delhaize\", \"Flutter Entertainment\", \"Hexagon\", \"Vestas Wind Systems\", \"Cellnex Telecom\",\n",
    "    \"Argenx\", \"H&M\", \"Skandinaviska Enskilda Banken\"\n",
    "]\n",
    "\n",
    "\n",
    "\n"
   ]
  },
  {
   "cell_type": "code",
   "execution_count": 97,
   "id": "ecb8d017-183b-4d2f-bbb6-27772ef2b294",
   "metadata": {
    "tags": []
   },
   "outputs": [],
   "source": [
    "df_usa = df[df['Name'].isin(usa_names).copy()]\n",
    "        "
   ]
  },
  {
   "cell_type": "code",
   "execution_count": 98,
   "id": "afb6a266-e0a9-440d-8976-cb33ca141f6a",
   "metadata": {
    "tags": []
   },
   "outputs": [
    {
     "data": {
      "text/plain": [
       "61"
      ]
     },
     "execution_count": 98,
     "metadata": {},
     "output_type": "execute_result"
    }
   ],
   "source": [
    "len(df_usa['Name'].unique())"
   ]
  },
  {
   "cell_type": "code",
   "execution_count": 99,
   "id": "b7523647-79ea-4b9d-adc1-d5ec0817e639",
   "metadata": {
    "tags": []
   },
   "outputs": [],
   "source": [
    "df_eu = df[df['Name'].isin(eu_names).copy()]"
   ]
  },
  {
   "cell_type": "code",
   "execution_count": 100,
   "id": "02a4d857-b3d6-4029-885c-9e87fd0ad5ab",
   "metadata": {
    "tags": []
   },
   "outputs": [
    {
     "data": {
      "text/plain": [
       "10"
      ]
     },
     "execution_count": 100,
     "metadata": {},
     "output_type": "execute_result"
    }
   ],
   "source": [
    "len(df_eu['Name'].unique())"
   ]
  },
  {
   "cell_type": "code",
   "execution_count": 101,
   "id": "e9184ea9-7eb2-43aa-9690-544511d8f449",
   "metadata": {
    "tags": []
   },
   "outputs": [],
   "source": [
    "df_eu_usa = df[df['Symbol'].isin(company_names).copy()]"
   ]
  },
  {
   "cell_type": "code",
   "execution_count": 11,
   "id": "9a3507be-8125-46cf-8e14-274aabbcca43",
   "metadata": {
    "tags": []
   },
   "outputs": [],
   "source": [
    "nasdaq_dict = {\n",
    "    'Apple Inc': 'AAPL', 'Microsoft Corp': 'MSFT', 'Amazon.com Inc': 'AMZN', 'NVIDIA Corp': 'NVDA',\n",
    "    'Meta Platforms Inc': 'META', 'Broadcom Inc': 'AVGO', 'Alphabet Inc (Class A)': 'GOOGL',\n",
    "    'Alphabet Inc (Class C)': 'GOOG', 'Tesla Inc': 'TSLA', 'Adobe Inc': 'ADBE', 'Costco Wholesale Corp': 'COST',\n",
    "    'PepsiCo Inc': 'PEP', 'Advanced Micro Devices Inc': 'AMD', 'Netflix Inc': 'NFLX', 'Cisco Systems Inc': 'CSCO',\n",
    "    'T-Mobile US Inc': 'TMUS', 'Intel Corp': 'INTC', 'Comcast Corp': 'CMCSA', 'Intuit Inc': 'INTU', 'QUALCOMM Inc': 'QCOM',\n",
    "    'Amgen Inc': 'AMGN', 'Texas Instruments Inc': 'TXN', 'Honeywell International Inc': 'HON',\n",
    "    'Applied Materials Inc': 'AMAT', 'Booking Holdings Inc': 'BKNG', 'Starbucks Corp': 'SBUX',\n",
    "    'Intuitive Surgical Inc': 'ISRG', 'Gilead Sciences Inc': 'GILD', 'Mondelez International Inc': 'MDLZ',\n",
    "    'Automatic Data Processing Inc': 'ADP', 'Lam Research Corp': 'LRCX', 'Analog Devices Inc': 'ADI',\n",
    "    'Palo Alto Networks Inc': 'PANW', 'PDD Holdings Inc ADR': 'PDD', 'Vertex Pharmaceuticals Inc': 'VRTX',\n",
    "    'Regeneron Pharmaceuticals Inc': 'REGN', 'Micron Technology Inc': 'MU', 'Synopsys Inc': 'SNPS',\n",
    "    'MercadoLibre Inc': 'MELI', 'KLA Corp': 'KLAC', 'Cadence Design Systems Inc': 'CDNS', 'CSX Corp': 'CSX',\n",
    "    'PayPal Holdings Inc': 'PYPL', 'Marriott International Inc/MD': 'MAR', 'ASML Holding NV': 'ASML',\n",
    "    'Airbnb Inc': 'ABNB', 'Lululemon Athletica Inc': 'LULU', \"O'Reilly Automotive Inc\": 'ORLY',\n",
    "    'Workday Inc': 'WDAY', 'Monster Beverage Corp': 'MNST', 'Cintas Corp': 'CTAS', 'NXP Semiconductors NV': 'NXPI',\n",
    "    'Charter Communications Inc': 'CHTR', 'CrowdStrike Holdings Inc': 'CRWD', 'PACCAR Inc': 'PCAR',\n",
    "    'Autodesk Inc': 'ADSK', 'Microchip Technology Inc': 'MCHP', 'Marvell Technology Inc': 'MRVL', 'Dexcom Inc': 'DXCM',\n",
    "    'Copart Inc': 'CPRT', 'Ross Stores Inc': 'ROST', 'Keurig Dr Pepper Inc': 'KDP', 'Paychex Inc': 'PAYX',\n",
    "    'Kraft Heinz Co/The': 'KHC', 'IDEXX Laboratories Inc': 'IDXX', 'Seagen Inc': 'SGEN',\n",
    "    'American Electric Power Co Inc': 'AEP', 'Fortinet Inc': 'FTNT', 'Old Dominion Freight Line Inc': 'ODFL',\n",
    "    'Exelon Corp': 'EXC', 'Electronic Arts Inc': 'EA', 'AstraZeneca PLC ADR': 'AZN', 'Constellation Energy Corp': 'CEG',\n",
    "    'Fastenal Co': 'FAST', 'Cognizant Technology Solutions Corp': 'CTSH', 'Biogen Inc': 'BIIB', 'Datadog Inc': 'DDOG',\n",
    "    'Verisk Analytics Inc': 'VRSK', 'CoStar Group Inc': 'CSGP', 'Xcel Energy Inc': 'XEL',\n",
    "    'ON Semiconductor Corp': 'ON', 'Baker Hughes Co': 'BKR', 'Trade Desk Inc/The': 'TTD',\n",
    "    'GE HealthCare Technologies Inc': 'GEHC', 'Moderna Inc': 'MRNA', 'Atlassian Corp': 'TEAM', 'Zscaler Inc': 'ZS',\n",
    "    'GLOBALFOUNDRIES Inc': 'GFS', 'Warner Bros Discovery Inc': 'WBD', 'Dollar Tree Inc': 'DLTR',\n",
    "    'Diamondback Energy Inc': 'FANG', 'ANSYS Inc': 'ANSS', 'eBay Inc': 'EBAY',\n",
    "    'Walgreens Boots Alliance Inc': 'WBA', 'Zoom Video Communications Inc': 'ZM', 'Illumina Inc': 'ILMN',\n",
    "    'Sirius XM Holdings Inc': 'SIRI', 'Align Technology Inc': 'ALGN', 'Enphase Energy Inc': 'ENPH',\n",
    "    'JD.com Inc ADR': 'JD', 'Lucid Group Inc': 'LCID'\n",
    "}"
   ]
  },
  {
   "cell_type": "code",
   "execution_count": 14,
   "id": "27e59486-2771-4209-94a6-d9b20679d9b7",
   "metadata": {
    "tags": []
   },
   "outputs": [
    {
     "data": {
      "text/plain": [
       "['Apple Inc',\n",
       " 'Microsoft Corp',\n",
       " 'Amazon.com Inc',\n",
       " 'NVIDIA Corp',\n",
       " 'Meta Platforms Inc',\n",
       " 'Broadcom Inc',\n",
       " 'Alphabet Inc (Class A)',\n",
       " 'Alphabet Inc (Class C)',\n",
       " 'Tesla Inc',\n",
       " 'Adobe Inc',\n",
       " 'Costco Wholesale Corp',\n",
       " 'PepsiCo Inc',\n",
       " 'Advanced Micro Devices Inc',\n",
       " 'Netflix Inc',\n",
       " 'Cisco Systems Inc',\n",
       " 'T-Mobile US Inc',\n",
       " 'Intel Corp',\n",
       " 'Comcast Corp',\n",
       " 'Intuit Inc',\n",
       " 'QUALCOMM Inc',\n",
       " 'Amgen Inc',\n",
       " 'Texas Instruments Inc',\n",
       " 'Honeywell International Inc',\n",
       " 'Applied Materials Inc',\n",
       " 'Booking Holdings Inc',\n",
       " 'Starbucks Corp',\n",
       " 'Intuitive Surgical Inc',\n",
       " 'Gilead Sciences Inc',\n",
       " 'Mondelez International Inc',\n",
       " 'Automatic Data Processing Inc',\n",
       " 'Lam Research Corp',\n",
       " 'Analog Devices Inc',\n",
       " 'Palo Alto Networks Inc',\n",
       " 'PDD Holdings Inc ADR',\n",
       " 'Vertex Pharmaceuticals Inc',\n",
       " 'Regeneron Pharmaceuticals Inc',\n",
       " 'Micron Technology Inc',\n",
       " 'Synopsys Inc',\n",
       " 'MercadoLibre Inc',\n",
       " 'KLA Corp',\n",
       " 'Cadence Design Systems Inc',\n",
       " 'CSX Corp',\n",
       " 'PayPal Holdings Inc',\n",
       " 'Marriott International Inc/MD',\n",
       " 'ASML Holding NV',\n",
       " 'Airbnb Inc',\n",
       " 'Lululemon Athletica Inc',\n",
       " \"O'Reilly Automotive Inc\",\n",
       " 'Workday Inc',\n",
       " 'Monster Beverage Corp',\n",
       " 'Cintas Corp',\n",
       " 'NXP Semiconductors NV',\n",
       " 'Charter Communications Inc',\n",
       " 'CrowdStrike Holdings Inc',\n",
       " 'PACCAR Inc',\n",
       " 'Autodesk Inc',\n",
       " 'Microchip Technology Inc',\n",
       " 'Marvell Technology Inc',\n",
       " 'Dexcom Inc',\n",
       " 'Copart Inc',\n",
       " 'Ross Stores Inc',\n",
       " 'Keurig Dr Pepper Inc',\n",
       " 'Paychex Inc',\n",
       " 'Kraft Heinz Co/The',\n",
       " 'IDEXX Laboratories Inc',\n",
       " 'Seagen Inc',\n",
       " 'American Electric Power Co Inc',\n",
       " 'Fortinet Inc',\n",
       " 'Old Dominion Freight Line Inc',\n",
       " 'Exelon Corp',\n",
       " 'Electronic Arts Inc',\n",
       " 'AstraZeneca PLC ADR',\n",
       " 'Constellation Energy Corp',\n",
       " 'Fastenal Co',\n",
       " 'Cognizant Technology Solutions Corp',\n",
       " 'Biogen Inc',\n",
       " 'Datadog Inc',\n",
       " 'Verisk Analytics Inc',\n",
       " 'CoStar Group Inc',\n",
       " 'Xcel Energy Inc',\n",
       " 'ON Semiconductor Corp',\n",
       " 'Baker Hughes Co',\n",
       " 'Trade Desk Inc/The',\n",
       " 'GE HealthCare Technologies Inc',\n",
       " 'Moderna Inc',\n",
       " 'Atlassian Corp',\n",
       " 'Zscaler Inc',\n",
       " 'GLOBALFOUNDRIES Inc',\n",
       " 'Warner Bros Discovery Inc',\n",
       " 'Dollar Tree Inc',\n",
       " 'Diamondback Energy Inc',\n",
       " 'ANSYS Inc',\n",
       " 'eBay Inc',\n",
       " 'Walgreens Boots Alliance Inc',\n",
       " 'Zoom Video Communications Inc',\n",
       " 'Illumina Inc',\n",
       " 'Sirius XM Holdings Inc',\n",
       " 'Align Technology Inc',\n",
       " 'Enphase Energy Inc',\n",
       " 'JD.com Inc ADR',\n",
       " 'Lucid Group Inc']"
      ]
     },
     "execution_count": 14,
     "metadata": {},
     "output_type": "execute_result"
    }
   ],
   "source": [
    "list(nasdaq_dict.keys())\n"
   ]
  },
  {
   "cell_type": "code",
   "execution_count": null,
   "id": "857253ec-687d-4f47-8ff7-ec16cafede1f",
   "metadata": {},
   "outputs": [],
   "source": []
  }
 ],
 "metadata": {
  "kernelspec": {
   "display_name": "Python 3 (ipykernel)",
   "language": "python",
   "name": "python3"
  },
  "language_info": {
   "codemirror_mode": {
    "name": "ipython",
    "version": 3
   },
   "file_extension": ".py",
   "mimetype": "text/x-python",
   "name": "python",
   "nbconvert_exporter": "python",
   "pygments_lexer": "ipython3",
   "version": "3.11.5"
  }
 },
 "nbformat": 4,
 "nbformat_minor": 5
}
